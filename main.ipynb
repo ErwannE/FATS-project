{
 "cells": [
  {
   "cell_type": "code",
   "execution_count": 1,
   "id": "b0f84aae",
   "metadata": {},
   "outputs": [],
   "source": [
    "using DataFrames, XLSX, DataStructures, Random"
   ]
  },
  {
   "cell_type": "code",
   "execution_count": null,
   "id": "fcbd4697",
   "metadata": {},
   "outputs": [
    {
     "data": {
      "text/plain": [
       "5-element Vector{Int64}:\n",
       " 20\n",
       " 15\n",
       " 17\n",
       " 13\n",
       " 18"
      ]
     },
     "metadata": {},
     "output_type": "display_data"
    }
   ],
   "source": [
    "xf = XLSX.readxlsx(\"velib_data_simulation.xlsx\")\n",
    "data = xf[\"Feuille1\"]\n",
    "\n",
    "parser = x -> if x isa String parse(Float64, x) elseif x isa Number Float64(x) else NaN end\n",
    "\n",
    "# NOTE that the stations will be shifted : stations are 3:7 in the sheet, but 1:5 in the code\n",
    "# station 1 in the code correspond to station 3 in the sheets, ...\n",
    "# General data\n",
    "routing = parser.(data[\"B4:F8\"])\n",
    "\n",
    "# Express everything in minutes : average number of departures per minute  \n",
    "departures = vec(parser.(data[\"B13:F13\"])) ./ 60\n",
    "\n",
    "M = length(departures)\n",
    "\n",
    "traversal_times = convert.(Float64, parser.(data[\"B18:F22\"]))\n",
    "\n",
    "# Initial condiditons\n",
    "docks_per_station = vec(data[\"B26:F26\"]) # Should not be used\n",
    "\n",
    "initial_bikes = convert.(Int, vec(data[\"B30:F30\"]))\n",
    "sum(initial_bikes) # Souldn't it be 100 ? Oh well anyways the initial state should not matter anyways\n",
    "\n",
    "\n",
    "initial_in_transit = parser.(data[\"B34:F38\"])\n",
    "replace!(x -> isnan(x) ? 0 : x, initial_in_transit)\n",
    "initial_in_transit = convert.(Int, initial_in_transit)\n",
    "\n",
    "initial_bikes"
   ]
  },
  {
   "cell_type": "code",
   "execution_count": 3,
   "id": "2c377994",
   "metadata": {},
   "outputs": [
    {
     "name": "stdout",
     "output_type": "stream",
     "text": [
      "  0.963194 seconds (8.15 M allocations: 220.909 MiB, 2.64% gc time, 9.93% compilation time)\n",
      "  0.212526 seconds (4.99 M allocations: 91.475 MiB, 5.82% gc time)\n",
      "Draw frequencies 1 : [0.0, 0.199697, 0.299172, 0.200679, 0.300452]\n",
      "Draw frequencies 2 : [0.0, 0.200061, 0.299241, 0.200924, 0.299774]\n"
     ]
    }
   ],
   "source": [
    "# Sampling sanity check \n",
    "SAMPLES = 1000000\n",
    "\n",
    "\n",
    "# Test using StatsBase\n",
    "using StatsBase\n",
    "counts_1 = zeros(Int, 5)\n",
    "@time begin\n",
    "    for _ ∈ 1:SAMPLES\n",
    "        res = sample(1:5, Weights(@view routing[1, :]))\n",
    "        counts_1[res] += 1\n",
    "    end\n",
    "end\n",
    "\n",
    "# Using a custom sampler\n",
    "\"\"\"\n",
    "Given a sorted vector of thresholds that represent [p1, p1+p2, ..., p1 + ... + pn-1, p1 + ... + pn = 1],\n",
    "LAST ELEMENT HAS TO BE 1\n",
    "Return a random int in 1:n with probabilities of p1 for 1, ...\n",
    "\"\"\"\n",
    "function custom_sample(thresholds :: Vector{Float64})\n",
    "    u = rand()\n",
    "    res = findfirst(x -> (x > u), thresholds)\n",
    "    return res\n",
    "end\n",
    "\n",
    "counts_2 = zeros(Int, 5)\n",
    "thresholds = [sum(routing[1, 1:i]) for i ∈ 1:5]\n",
    "\n",
    "@time begin\n",
    "    for _ ∈ 1:SAMPLES\n",
    "        res = custom_sample(thresholds)\n",
    "        counts_2[res] += 1\n",
    "    end\n",
    "end\n",
    "\n",
    "# Sanity check\n",
    "println(\"Draw frequencies 1 : $(counts_1 ./ SAMPLES)\")\n",
    "println(\"Draw frequencies 2 : $(counts_2 ./ SAMPLES)\")\n",
    "\n",
    "# Fastest is custom sampler with precomputed thresholds !"
   ]
  },
  {
   "cell_type": "code",
   "execution_count": 5,
   "id": "da8904c9",
   "metadata": {},
   "outputs": [
    {
     "name": "stdout",
     "output_type": "stream",
     "text": [
      "  0.328264 seconds (4.00 M allocations: 104.578 MiB, 11.24% gc time)\n",
      "  0.360045 seconds (5.00 M allocations: 119.838 MiB, 18.64% gc time)\n",
      "Average for first distrib : 21.4146193702156, for second : 21.431263535401932 \n"
     ]
    }
   ],
   "source": [
    "# Exponential draw sanity check\n",
    "SAMPLES = 1000000\n",
    "\n",
    "# Test using Distributions.jl\n",
    "using Distributions\n",
    "distrib = Exponential(1 / departures[1])\n",
    "res_1 = []\n",
    "@time begin\n",
    "    for _ ∈ 1:SAMPLES\n",
    "        res = rand(distrib)\n",
    "        push!(res_1, res)\n",
    "    end\n",
    "end\n",
    "\n",
    "# Test using a custom function\n",
    "function draw_exponential(lambda :: Float64)\n",
    "    u = rand()\n",
    "    return (-1 / lambda) * log(u)\n",
    "end\n",
    "\n",
    "res_2 = []\n",
    "@time begin\n",
    "    for _ ∈ 1:SAMPLES\n",
    "        res = draw_exponential(departures[1])\n",
    "        push!(res_2, res)\n",
    "    end\n",
    "end\n",
    "\n",
    "# Sanity check\n",
    "println(\"Average for first distrib : $(sum(res_1) / SAMPLES), for second : $(sum(res_2) / SAMPLES) \")\n",
    "\n",
    "# We see that the custom hand made one is a little bit faster, or near enough. Will will thus only use custom function !"
   ]
  },
  {
   "cell_type": "code",
   "execution_count": 6,
   "id": "834f25fb",
   "metadata": {},
   "outputs": [],
   "source": [
    "# Next departure in at t, with time = t + X where X ~ Exp(lambda)\n",
    "struct Departure\n",
    "    time :: Float64\n",
    "    origin :: Int\n",
    "end\n",
    "\n",
    "# At a departure time, draw the destination using the routing matrix, and set the arrival to t + travel_time[origin, dest]\n",
    "# Or should travel time also be drawn with an exponential ? Might be ?\n",
    "struct Arrival\n",
    "    time :: Float64\n",
    "    origin :: Int\n",
    "    destination :: Int\n",
    "end\n",
    "\n",
    "Event = Union{Departure, Arrival};"
   ]
  },
  {
   "cell_type": "code",
   "execution_count": null,
   "id": "6c2cac4e",
   "metadata": {},
   "outputs": [
    {
     "data": {
      "text/plain": [
       "simulator (generic function with 6 methods)"
      ]
     },
     "metadata": {},
     "output_type": "display_data"
    }
   ],
   "source": [
    "\n",
    "function simulator(\n",
    "    departures :: Vector{Float64},\n",
    "    routing_probas :: Matrix{Float64},\n",
    "    traversal_times :: Matrix{Float64},\n",
    "    initial_states :: Vector{Int},\n",
    "    initial_in_transit :: Matrix{Int},\n",
    "    Tmax :: Float64,\n",
    "    verbose :: Bool = false,\n",
    "    seed :: Int = 42,\n",
    ")\n",
    "    Random.seed!(seed)\n",
    "    t = 0\n",
    "    N = sum(initial_states) + sum(initial_in_transit)\n",
    "    M = length(initial_states)\n",
    "\n",
    "    event_queue = PriorityQueue{Event, Float64}(Base.Order.Forward)\n",
    "\n",
    "    # Initial departures\n",
    "    for i ∈ 1:M\n",
    "        # Draws a random time with the given distribution\n",
    "        t_dep = draw_exponential(departures[i])\n",
    "        event_queue[Departure(t_dep, i)] = t_dep\n",
    "    end\n",
    "\n",
    "    # Initial arrivals for the bikes initially in transit\n",
    "    for i ∈ 1:M\n",
    "        for j ∈ 1:M\n",
    "            n_in_transit = initial_in_transit[i, j]\n",
    "            for k ∈ 1:n_in_transit\n",
    "                t_arr = draw_exponential(1 / traversal_times[i, j])\n",
    "                event_queue[Arrival(t_arr, i, j)] = t_arr\n",
    "            end\n",
    "        end \n",
    "    end\n",
    "\n",
    "    # Pre-build the threshold vectors used for sampling destinations\n",
    "    routing_thresholds = [[sum(routing[i, 1:j]) for j ∈ 1:M] for i ∈ 1:M]\n",
    "    # Correct possible floating point errors where probas might not exactly add to 1.0\n",
    "    for i ∈ 1:M\n",
    "        routing_thresholds[i][end] = 1.0\n",
    "    end\n",
    "\n",
    "    state = copy(initial_states)\n",
    "    journeys_in_progress = copy(initial_in_transit)\n",
    "\n",
    "    iter = 0\n",
    "\n",
    "    # Statistics \n",
    "    \n",
    "    # Counting with Poisson arrivals\n",
    "    empty_when_we_try_departure = zeros(Int, M) # Count the number of times a station is empty before we try to depart from it\n",
    "    # Counting with average\n",
    "    last_departures = zeros(Float64, M) # Keep track of the last time there was a departure from each station.\n",
    "    time_spent_at_zero = zeros(Float64, M) # When a bike arrives at an empty station, we thus know how long it spent empty\n",
    "    departures_per_station = zeros(Int, M) # Count the number of departures we try at each station\n",
    "    \n",
    "\n",
    "    while t < Tmax\n",
    "        # Events are dequeued in increasing order of event.time\n",
    "        event = dequeue!(event_queue)\n",
    "    \n",
    "        if event isa Departure\n",
    "            t = event.time\n",
    "            origin = event.origin\n",
    "            departures_per_station[origin] += 1\n",
    "            if state[origin] > 0\n",
    "                # Pick the destination and create the arrival event\n",
    "                dest = custom_sample(routing_thresholds[origin])\n",
    "                t_arrival = t + draw_exponential(1 / traversal_times[origin, dest])\n",
    "                # Add the Arrival event to the queue\n",
    "                event_queue[Arrival(t_arrival, origin, dest)] = t_arrival\n",
    "                journeys_in_progress[origin, dest] += 1\n",
    "                state[origin] -= 1\n",
    "                last_departures[origin] = t\n",
    "            else\n",
    "                # Journey is lost, do something ?\n",
    "                empty_when_we_try_departure[origin] += 1\n",
    "            end\n",
    "\n",
    "            # In any case, draw the next departure event\n",
    "            t_next = t + draw_exponential(departures[origin])\n",
    "            # Add the next Departure from this station to the queue\n",
    "            event_queue[Departure(t_next, origin)] = t_next\n",
    "\n",
    "        elseif event isa Arrival\n",
    "            t = event.time\n",
    "            ori, dest = event.origin, event.destination\n",
    "            # If we arrive at empty station, the station spent (t - last_departures[dest]) minutes empty !\n",
    "            if state[dest] == 0\n",
    "                time_spent_at_zero[dest] += (t - last_departures[dest])\n",
    "            end\n",
    "            # Simply update the states (We do not consider station capacity !)\n",
    "            journeys_in_progress[ori, dest] -= 1\n",
    "            state[dest] += 1\n",
    "        end\n",
    "\n",
    "        iter += 1\n",
    "    end\n",
    "\n",
    "    lost_prop = empty_when_we_try_departure ./ departures_per_station\n",
    "    average_at_zero = time_spent_at_zero ./ t\n",
    "\n",
    "    if verbose\n",
    "        println(\"Reached Tmax = $Tmax, $iter events treated\")\n",
    "        println(\"Sanity check : number of bikes is $(sum(state) + sum(journeys_in_progress))\")\n",
    "        println(\"----------------------------\")\n",
    "        println(\"Proportion of departures lost due to empty station : $lost_prop\")\n",
    "        println(\"Proportion of the time spent empty : $average_at_zero\")\n",
    "        println(\"Gap : $(abs.(lost_prop - average_at_zero))\")\n",
    "    end\n",
    "    \n",
    "    return state, lost_prop, average_at_zero\n",
    "end\n"
   ]
  },
  {
   "cell_type": "code",
   "execution_count": 28,
   "id": "8f233ff8",
   "metadata": {},
   "outputs": [
    {
     "name": "stdout",
     "output_type": "stream",
     "text": [
      "Reached Tmax = 5.0e8, 313909115 events treated\n",
      "Sanity check : number of bikes is 91\n",
      "----------------------------\n",
      "Proportion of departures lost due to empty station : [0.0003363739556132945, 0.11388665947270413, 0.23369310773719676, 0.11290634699142454, 0.09282817498937598]\n",
      "Proportion of the time spent empty : [0.00033395676926431447, 0.11382854396792241, 0.23373442468779967, 0.1129794241126312, 0.09278563198085228]\n",
      "Gap : [2.41718634898003e-6, 5.81155047817139e-5, 4.13169506029154e-5, 7.307712120666054e-5, 4.254300852370163e-5]\n"
     ]
    }
   ],
   "source": [
    "Tmax_Single = 5e8\n",
    "\n",
    "simulator(\n",
    "    departures,\n",
    "    routing,\n",
    "    traversal_times,\n",
    "    initial_bikes,\n",
    "    initial_in_transit,\n",
    "    Tmax_Single,\n",
    "    true\n",
    ");"
   ]
  },
  {
   "cell_type": "code",
   "execution_count": 34,
   "id": "d6761552",
   "metadata": {},
   "outputs": [
    {
     "name": "stdout",
     "output_type": "stream",
     "text": [
      "Proportion of simulation where each station ends with zero bikes : [0.0, 0.103, 0.246, 0.122, 0.089]\n"
     ]
    }
   ],
   "source": [
    "Tmax_Multiple = 1e6\n",
    "N_simus = 1000\n",
    "\n",
    "simus_ending_at_zero = zeros(Int, M)\n",
    "\n",
    "Threads.@threads for i ∈ 1:N_simus\n",
    "    state, _, __ = simulator(   \n",
    "        departures,\n",
    "        routing,\n",
    "        traversal_times,\n",
    "        initial_bikes,\n",
    "        initial_in_transit,\n",
    "        Tmax_Multiple,\n",
    "        false,\n",
    "        i\n",
    "    )\n",
    "    for (i, s) in enumerate(state)\n",
    "        if s == 0\n",
    "            simus_ending_at_zero[i] += 1\n",
    "        end\n",
    "    end\n",
    "end\n",
    "\n",
    "# We compute the proportion of simulation where each station ends with zero bikes \n",
    "\n",
    "println(\"Proportion of simulation where each station ends with zero bikes : $(simus_ending_at_zero ./ N_simus)\")"
   ]
  },
  {
   "cell_type": "markdown",
   "id": "5aa7db77",
   "metadata": {},
   "source": [
    "We want to give an estimate and its confidence interval of the average time each station spends with 0 bikes stored\n",
    "\n",
    "### Confidence interval\n",
    "\n",
    "The confidence interval of level $1 - \\alpha$ is computed using the formula :\n",
    "$$ I_{1-\\alpha} = \\left[ \\bar{X} - t_{\\alpha/2}^{r-1} \\frac{s}{\\sqrt{r}} ; \\bar{X} + t_{\\alpha/2}^{r-1} \\frac{s}{\\sqrt{r}} \\right] $$\n",
    "\n",
    "Where : $t_{\\alpha/2}^{r-1}$ is the quantile of the t-distribution with r-1 degrees of freedom at $\\alpha/2$, $\\bar{X}$ is the sample mean, $s$ is the sample standard deviation and $r$ is the number of simulation runs."
   ]
  },
  {
   "cell_type": "code",
   "execution_count": null,
   "id": "63dd31c7",
   "metadata": {},
   "outputs": [
    {
     "name": "stdout",
     "output_type": "stream",
     "text": [
      "Tot is 0, Avg is 0.0, std dev is 0.0\n",
      "Asymptotic proportion of time station 1 spends empty is : 0.0 ± -0.0\n",
      "Tot is 103, Avg is 0.103, std dev is 0.3039588787977742\n",
      "Asymptotic proportion of time station 2 spends empty is : 0.103 ± -0.018862072671782776\n",
      "Tot is 246, Avg is 0.246, std dev is 0.4306785344082057\n",
      "Asymptotic proportion of time station 3 spends empty is : 0.246 ± -0.026725621065305624\n",
      "Tot is 122, Avg is 0.122, std dev is 0.32728580781940425\n",
      "Asymptotic proportion of time station 4 spends empty is : 0.122 ± -0.020309617919204992\n",
      "Tot is 89, Avg is 0.089, std dev is 0.2847437444440176\n",
      "Asymptotic proportion of time station 5 spends empty is : 0.089 ± -0.01766968354989843\n"
     ]
    }
   ],
   "source": [
    "using Distributions\n",
    "student_t = TDist(N_simus - 1)\n",
    "alpha = 0.05 # 95% confidence intervalls\n",
    "\n",
    "for (i, tot) in enumerate(simus_ending_at_zero)\n",
    "    # We are sampling 1_{X_i^T == 0}, which always either one or zero.\n",
    "    # The variance is thus 1 / N * (tot * (1 - avg)² + (N - tot) * avg²)\n",
    "    avg = tot / N_simus\n",
    "    dev = sqrt(\n",
    "        (1 / N_simus) * (tot * (1 - avg)^2 + (N_simus - tot) * (avg)^2 )\n",
    "    )\n",
    "    quant = quantile(student_t, alpha / 2)\n",
    "    width = quant * (dev / sqrt(N_simus))\n",
    "\n",
    "    # println(\"Tot is $tot, Avg is $avg, std dev is $dev\")\n",
    "    print(\"Asymptotic proportion of time station $i spends empty is : \")\n",
    "    println(\"$avg ± $width\")\n",
    "end"
   ]
  }
 ],
 "metadata": {
  "kernelspec": {
   "display_name": "Julia 1.12.1",
   "language": "julia",
   "name": "julia-1.12"
  },
  "language_info": {
   "file_extension": ".jl",
   "mimetype": "application/julia",
   "name": "julia",
   "version": "1.12.1"
  }
 },
 "nbformat": 4,
 "nbformat_minor": 5
}
