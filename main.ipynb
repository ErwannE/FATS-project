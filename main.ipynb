{
 "cells": [
  {
   "cell_type": "code",
   "execution_count": 1,
   "id": "b0f84aae",
   "metadata": {},
   "outputs": [],
   "source": [
    "using DataFrames, XLSX, DataStructures, Random"
   ]
  },
  {
   "cell_type": "code",
   "execution_count": null,
   "id": "fcbd4697",
   "metadata": {},
   "outputs": [
    {
     "data": {
      "text/plain": [
       "5"
      ]
     },
     "metadata": {},
     "output_type": "display_data"
    }
   ],
   "source": [
    "xf = XLSX.readxlsx(\"velib_data_simulation.xlsx\")\n",
    "data = xf[\"Feuille1\"]\n",
    "\n",
    "parser = x -> if x isa String parse(Float64, x) elseif x isa Number Float64(x) else NaN end\n",
    "\n",
    "# NOTE that the stations will be shifted : stations are 3:7 in the sheet, but 1:5 in the code\n",
    "# station 1 in the code correspond to station 3 in the sheets, ...\n",
    "# General data\n",
    "routing = parser.(data[\"B4:F8\"])\n",
    "\n",
    "# Express everything in minutes : average number of departures per minute  \n",
    "departures = vec(parser.(data[\"B13:F13\"])) ./ 60\n",
    "\n",
    "M = length(departures)\n",
    "\n",
    "traversal_times = convert.(Float64, parser.(data[\"B18:F22\"]))\n",
    "\n",
    "# Initial condiditons\n",
    "docks_per_station = vec(data[\"B26:F26\"]) # Should not be used\n",
    "\n",
    "initial_bikes = vec(data[\"B30:F30\"])\n",
    "sum(initial_bikes) # Souldn't it be 100 ? Oh well anyways the initial state should not matter anyways\n",
    "\n",
    "traversal_times\n"
   ]
  },
  {
   "cell_type": "code",
   "execution_count": 3,
   "id": "2c377994",
   "metadata": {},
   "outputs": [
    {
     "name": "stdout",
     "output_type": "stream",
     "text": [
      "  1.061600 seconds (8.15 M allocations: 220.910 MiB, 8.71% gc time, 9.34% compilation time)\n",
      "  0.218059 seconds (4.99 M allocations: 91.475 MiB, 5.37% gc time)\n",
      "Draw frequencies 1 : [0.0, 0.20073, 0.299568, 0.199807, 0.299895]\n",
      "Draw frequencies 2 : [0.0, 0.200479, 0.300122, 0.199978, 0.299421]\n"
     ]
    }
   ],
   "source": [
    "# Sampling sanity check \n",
    "SAMPLES = 1000000\n",
    "\n",
    "\n",
    "# Test using StatsBase\n",
    "using StatsBase\n",
    "counts_1 = zeros(Int, 5)\n",
    "@time begin\n",
    "    for _ ∈ 1:SAMPLES\n",
    "        res = sample(1:5, Weights(@view routing[1, :]))\n",
    "        counts_1[res] += 1\n",
    "    end\n",
    "end\n",
    "\n",
    "# Using a custom sampler\n",
    "\"\"\"\n",
    "Given a sorted vector of thresholds that represent [p1, p1+p2, ..., p1 + ... + pn-1, p1 + ... + pn = 1],\n",
    "LAST ELEMENT HAS TO BE 1\n",
    "Return a random int in 1:n with probabilities of p1 for 1, ...\n",
    "\"\"\"\n",
    "function custom_sample(thresholds :: Vector{Float64})\n",
    "    u = rand()\n",
    "    res = findfirst(x -> (x > u), thresholds)\n",
    "    return res\n",
    "end\n",
    "\n",
    "counts_2 = zeros(Int, 5)\n",
    "thresholds = [sum(routing[1, 1:i]) for i ∈ 1:5]\n",
    "\n",
    "@time begin\n",
    "    for _ ∈ 1:SAMPLES\n",
    "        res = custom_sample(thresholds)\n",
    "        counts_2[res] += 1\n",
    "    end\n",
    "end\n",
    "\n",
    "# Sanity check\n",
    "println(\"Draw frequencies 1 : $(counts_1 ./ SAMPLES)\")\n",
    "println(\"Draw frequencies 2 : $(counts_2 ./ SAMPLES)\")\n",
    "\n",
    "# Fastest is custom sampler with precomputed thresholds !"
   ]
  },
  {
   "cell_type": "code",
   "execution_count": 4,
   "id": "da8904c9",
   "metadata": {},
   "outputs": [
    {
     "name": "stdout",
     "output_type": "stream",
     "text": [
      "  0.380615 seconds (4.01 M allocations: 104.877 MiB, 6.87% gc time, 1.79% compilation time)\n",
      "  0.457494 seconds (5.00 M allocations: 119.837 MiB, 5.44% gc time)\n",
      "Average for first distrib : 21.397709671619417, for second : 21.42954594414596 \n"
     ]
    }
   ],
   "source": [
    "# Exponential draw sanity check\n",
    "SAMPLES = 1000000\n",
    "\n",
    "# Test using Distributions.jl\n",
    "using Distributions\n",
    "distrib = Exponential(1 / departures[1])\n",
    "res_1 = []\n",
    "@time begin\n",
    "    for _ ∈ 1:SAMPLES\n",
    "        res = rand(distrib)\n",
    "        push!(res_1, res)\n",
    "    end\n",
    "end\n",
    "\n",
    "# Test using a custom function\n",
    "function draw_exponential(lambda :: Float64)\n",
    "    u = rand()\n",
    "    return (-1 / lambda) * log(u)\n",
    "end\n",
    "\n",
    "res_2 = []\n",
    "@time begin\n",
    "    for _ ∈ 1:SAMPLES\n",
    "        res = draw_exponential(departures[1])\n",
    "        push!(res_2, res)\n",
    "    end\n",
    "end\n",
    "\n",
    "# Sanity check\n",
    "println(\"Average for first distrib : $(sum(res_1) / SAMPLES), for second : $(sum(res_2) / SAMPLES) \")\n",
    "\n",
    "# We see that the custom hand made one is a little bit faster, or near enough. Will will thus only use custom function !"
   ]
  },
  {
   "cell_type": "code",
   "execution_count": 5,
   "id": "834f25fb",
   "metadata": {},
   "outputs": [],
   "source": [
    "# Next departure in at t, with time = t + X where X ~ Exp(lambda)\n",
    "struct Departure\n",
    "    time :: Float64\n",
    "    origin :: Int\n",
    "end\n",
    "\n",
    "# At a departure time, draw the destination using the routing matrix, and set the arrival to t + travel_time[origin, dest]\n",
    "# Or should travel time also be drawn with an exponential ? Might be ?\n",
    "struct Arrival\n",
    "    time :: Float64\n",
    "    origin :: Int\n",
    "    destination :: Int\n",
    "end\n",
    "\n",
    "Event = Union{Departure, Arrival};"
   ]
  },
  {
   "cell_type": "code",
   "execution_count": 20,
   "id": "6c2cac4e",
   "metadata": {},
   "outputs": [
    {
     "data": {
      "text/plain": [
       "simulator (generic function with 3 methods)"
      ]
     },
     "metadata": {},
     "output_type": "display_data"
    }
   ],
   "source": [
    "\n",
    "function simulator(\n",
    "    departures :: Vector{Float64},\n",
    "    routing_probas :: Matrix{Float64},\n",
    "    traversal_times :: Matrix{Float64},\n",
    "    initial_conditions :: Vector{Int},\n",
    "    Tmax :: Float64,\n",
    "    verbose :: Bool = false,\n",
    "    seed :: Int = 42,\n",
    ")\n",
    "    Random.seed!(seed)\n",
    "    t = 0\n",
    "    N = sum(initial_conditions)\n",
    "    M = length(initial_conditions)\n",
    "\n",
    "    event_queue = PriorityQueue{Event, Float64}(Base.Order.Forward)\n",
    "\n",
    "    # Initial departures\n",
    "    for i ∈ 1:M\n",
    "        # Draws a random time with the given distribution\n",
    "        t_dep = draw_exponential(departures[i])\n",
    "        event_queue[Departure(t_dep, i)] = t_dep\n",
    "    end\n",
    "\n",
    "    # Pre-build the threshold vectors used for sampling destinations\n",
    "    routing_thresholds = [[sum(routing[i, 1:j]) for j ∈ 1:M] for i ∈ 1:M]\n",
    "    # Correct possible floating point errors where probas might not exactly add to 1.0\n",
    "    for i ∈ 1:M\n",
    "        routing_thresholds[i][end] = 1.0\n",
    "    end\n",
    "\n",
    "    state = copy(initial_conditions)\n",
    "    journeys_in_progress = zeros(Int, (M,M))\n",
    "\n",
    "    iter = 0\n",
    "\n",
    "    # Statistics \n",
    "    \n",
    "    # Counting with Poisson arrivals\n",
    "    empty_when_we_try_departure = zeros(Int, M) # Count the number of times a station is empty before we try to depart from it\n",
    "    # Counting with average\n",
    "    last_departures = zeros(Float64, M) # Keep track of the last time there was a departure from each station.\n",
    "    time_spent_at_zero = zeros(Float64, M) # When a bike arrives at an empty station, we thus know how long it spent empty\n",
    "    departures_per_station = zeros(Int, M) # Count the number of departures we try at each station\n",
    "    \n",
    "\n",
    "    while t < Tmax\n",
    "\n",
    "        # if verbose && mod(iter, 100) == 0\n",
    "        #     println(\"$iter events treated, time is $t\")\n",
    "        # end\n",
    "\n",
    "        event = dequeue!(event_queue)\n",
    "    \n",
    "        if event isa Departure\n",
    "            t = event.time\n",
    "            origin = event.origin\n",
    "            departures_per_station[origin] += 1\n",
    "            if state[origin] > 0\n",
    "                # Pick the destination and create the arrival event\n",
    "                dest = custom_sample(routing_thresholds[origin])\n",
    "                t_arrival = t + traversal_times[origin, dest]\n",
    "                event_queue[Arrival(t_arrival, origin, dest)] = t_arrival\n",
    "                journeys_in_progress[origin, dest] += 1\n",
    "                state[origin] -= 1\n",
    "                last_departures[origin] = t\n",
    "            else\n",
    "                # Journey is lost, do something ?\n",
    "                empty_when_we_try_departure[origin] += 1\n",
    "            end\n",
    "\n",
    "            # In any case, draw the next departure event\n",
    "            t_next = t + draw_exponential(departures[origin])\n",
    "            event_queue[Departure(t_next, origin)] = t_next\n",
    "\n",
    "        elseif event isa Arrival\n",
    "            t = event.time\n",
    "            ori, dest = event.origin, event.destination\n",
    "            # If we arrive at empty station, the station spent (t - last_departures[dest]) minutes empty !\n",
    "            if state[dest] == 0\n",
    "                time_spent_at_zero[dest] += (t - last_departures[dest])\n",
    "            end\n",
    "            # Simply update the states (We do not consider station capacity !)\n",
    "            journeys_in_progress[ori, dest] -= 1\n",
    "            state[dest] += 1\n",
    "        end\n",
    "\n",
    "        iter += 1\n",
    "    end\n",
    "\n",
    "    lost_prop = empty_when_we_try_departure ./ departures_per_station\n",
    "    average_at_zero = time_spent_at_zero ./ t\n",
    "\n",
    "    if verbose\n",
    "        println(\"Reached Tmax = $Tmax, $iter events treated\")\n",
    "        println(\"Sanity check : number of bikes is $(sum(state) + sum(journeys_in_progress))\")\n",
    "        println(\"----------------------------\")\n",
    "        println(\"Proportion of departures lost due to empty station : $lost_prop\")\n",
    "        println(\"Proportion of the time spent empty : $average_at_zero\")\n",
    "        println(\"Gap : $(abs.(lost_prop - average_at_zero))\")\n",
    "    end\n",
    "    \n",
    "    return state, lost_prop, average_at_zero\n",
    "end\n"
   ]
  },
  {
   "cell_type": "code",
   "execution_count": 23,
   "id": "8f233ff8",
   "metadata": {},
   "outputs": [
    {
     "name": "stdout",
     "output_type": "stream",
     "text": [
      "Reached Tmax = 5.0e8, 251436627 events treated\n",
      "Sanity check : number of bikes is 5\n",
      "----------------------------\n",
      "Proportion of departures lost due to empty station : [0.42677313871331746, 0.49232575434273734, 0.5606050381681621, 0.4914860111320359, 0.4796832930750249]\n",
      "Proportion of the time spent empty : [0.42669268554719164, 0.4924012072873502, 0.5604727659297177, 0.4914801466076327, 0.47970569652622713]\n",
      "Gap : [8.045316612581566e-5, 7.545294461286378e-5, 0.0001322722384443642, 5.8645244032096144e-6, 2.2403451202246405e-5]\n"
     ]
    }
   ],
   "source": [
    "Tmax_Single = 5e8\n",
    "initial_state = ones(Int, M)\n",
    "\n",
    "simulator(\n",
    "    departures,\n",
    "    routing,\n",
    "    traversal_times,\n",
    "    initial_state,\n",
    "    Tmax_Single,\n",
    "    true\n",
    ");"
   ]
  },
  {
   "cell_type": "code",
   "execution_count": 25,
   "id": "d6761552",
   "metadata": {},
   "outputs": [
    {
     "name": "stdout",
     "output_type": "stream",
     "text": [
      "Proportion of simulation where each station ends with zero bikes : [0.4307, 0.4905, 0.5652, 0.4983, 0.4797]\n"
     ]
    }
   ],
   "source": [
    "Tmax_Multiple = 1e5\n",
    "N_simus = 10000\n",
    "\n",
    "simus_ending_at_zero = zeros(Int, M)\n",
    "\n",
    "Threads.@threads for i ∈ 1:N_simus\n",
    "    state, _, __ = simulator(   \n",
    "        departures,\n",
    "        routing,\n",
    "        traversal_times,\n",
    "        initial_state,\n",
    "        Tmax_Multiple,\n",
    "        false,\n",
    "        i\n",
    "    )\n",
    "    for (i, s) in enumerate(state)\n",
    "        if s == 0\n",
    "            simus_ending_at_zero[i] += 1\n",
    "        end\n",
    "    end\n",
    "end\n",
    "\n",
    "println(\"Proportion of simulation where each station ends with zero bikes : $(simus_ending_at_zero ./ N_simus)\")"
   ]
  }
 ],
 "metadata": {
  "kernelspec": {
   "display_name": "Julia 1.12.1",
   "language": "julia",
   "name": "julia-1.12"
  },
  "language_info": {
   "file_extension": ".jl",
   "mimetype": "application/julia",
   "name": "julia",
   "version": "1.12.1"
  }
 },
 "nbformat": 4,
 "nbformat_minor": 5
}
